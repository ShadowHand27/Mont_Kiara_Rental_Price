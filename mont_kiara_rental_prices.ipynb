{
 "cells": [
  {
   "cell_type": "markdown",
   "id": "5bd3e79b-3103-43db-aa28-f6d3ca0feef3",
   "metadata": {},
   "source": [
    "# Web-scraping the data from iproperty"
   ]
  },
  {
   "cell_type": "code",
   "execution_count": 1,
   "id": "b1eb48b2-a799-4fa7-ab68-256bc55f71ad",
   "metadata": {},
   "outputs": [],
   "source": [
    "from bs4 import BeautifulSoup\n",
    "import requests\n",
    "import pandas as pd"
   ]
  },
  {
   "cell_type": "code",
   "execution_count": 2,
   "id": "be2ece10-e9ee-44a9-a2f2-a5914ab5faa5",
   "metadata": {},
   "outputs": [],
   "source": [
    "url = 'https://www.iproperty.com.my/rent/mont-kiara/all-residential/?page=1'\n",
    "html = requests.get(url).text"
   ]
  },
  {
   "cell_type": "code",
   "execution_count": 3,
   "id": "2886baff-0d38-4ec4-b319-95dd6d4d871f",
   "metadata": {},
   "outputs": [],
   "source": [
    "soup = BeautifulSoup(html,'html.parser')"
   ]
  },
  {
   "cell_type": "code",
   "execution_count": 4,
   "id": "7ef24a7f-cb95-40cd-ade1-f5f80698a3fb",
   "metadata": {
    "scrolled": true,
    "tags": []
   },
   "outputs": [],
   "source": [
    "#print(soup.prettify())"
   ]
  },
  {
   "cell_type": "code",
   "execution_count": 5,
   "id": "4a8071ae-d6ae-4097-9d6e-e059ca7bf63b",
   "metadata": {},
   "outputs": [
    {
     "data": {
      "text/html": [
       "<div>\n",
       "<style scoped>\n",
       "    .dataframe tbody tr th:only-of-type {\n",
       "        vertical-align: middle;\n",
       "    }\n",
       "\n",
       "    .dataframe tbody tr th {\n",
       "        vertical-align: top;\n",
       "    }\n",
       "\n",
       "    .dataframe thead th {\n",
       "        text-align: right;\n",
       "    }\n",
       "</style>\n",
       "<table border=\"1\" class=\"dataframe\">\n",
       "  <thead>\n",
       "    <tr style=\"text-align: right;\">\n",
       "      <th></th>\n",
       "      <th>MK_Price</th>\n",
       "    </tr>\n",
       "  </thead>\n",
       "  <tbody>\n",
       "    <tr>\n",
       "      <th>0</th>\n",
       "      <td>(RM 3.15 per sq. ft.)</td>\n",
       "    </tr>\n",
       "    <tr>\n",
       "      <th>1</th>\n",
       "      <td>(RM 3.46 per sq. ft.)</td>\n",
       "    </tr>\n",
       "    <tr>\n",
       "      <th>2</th>\n",
       "      <td>(RM 2.69 per sq. ft.)</td>\n",
       "    </tr>\n",
       "    <tr>\n",
       "      <th>3</th>\n",
       "      <td>(RM 2.89 per sq. ft.)</td>\n",
       "    </tr>\n",
       "    <tr>\n",
       "      <th>4</th>\n",
       "      <td>(RM 3.1 per sq. ft.)</td>\n",
       "    </tr>\n",
       "  </tbody>\n",
       "</table>\n",
       "</div>"
      ],
      "text/plain": [
       "                MK_Price\n",
       "0  (RM 3.15 per sq. ft.)\n",
       "1  (RM 3.46 per sq. ft.)\n",
       "2  (RM 2.69 per sq. ft.)\n",
       "3  (RM 2.89 per sq. ft.)\n",
       "4   (RM 3.1 per sq. ft.)"
      ]
     },
     "execution_count": 5,
     "metadata": {},
     "output_type": "execute_result"
    }
   ],
   "source": [
    "# find all the price per sqft\n",
    "df = pd.DataFrame(soup.find_all('p',class_=False),columns=['MK_Price'])\n",
    "df.head()"
   ]
  },
  {
   "cell_type": "markdown",
   "id": "a927b621-a459-4643-9fb6-17f13131def3",
   "metadata": {},
   "source": [
    "## Data Extraction and Transformation"
   ]
  },
  {
   "cell_type": "markdown",
   "id": "d83de9ee-27ac-4530-84a3-499ca1efc470",
   "metadata": {},
   "source": [
    "The website iProperty.com.my has a database of 6,700 entries for rental properties within the Mont_Kiara area. Due to the limitation of the webpage being able to only access 2000 entries at a time, the extraction process will be broken up into 3 different categories based on the rental price range."
   ]
  },
  {
   "cell_type": "markdown",
   "id": "a8466ccf-ec18-4576-8b17-6930a2fb9fb9",
   "metadata": {},
   "source": [
    "**Rental Prices below 3000** 2434 entries "
   ]
  },
  {
   "cell_type": "code",
   "execution_count": 6,
   "id": "b031b44c-fef8-45d3-ad9c-8cd472cdeb99",
   "metadata": {},
   "outputs": [
    {
     "name": "stderr",
     "output_type": "stream",
     "text": [
      "Loading...: 100%|██████████| 100/100 [01:48<00:00,  1.08s/it]\n"
     ]
    }
   ],
   "source": [
    "from tqdm import tqdm\n",
    "df_mk = pd.DataFrame(columns=['Price'])\n",
    "for i in tqdm (range (1,101), desc=\"Loading...\"):\n",
    "    # iterate the webpages\n",
    "    url = f'https://www.iproperty.com.my/rent/mont-kiara/all-residential/?maxPrice=3500&page=i'\n",
    "    # retrive the html code\n",
    "    html = requests.get(url).text\n",
    "    # create soup\n",
    "    soup = BeautifulSoup(html,'html.parser')\n",
    "    # filter data and convert to temporary dataframe\n",
    "    dft = pd.DataFrame(soup.find_all('p',class_=False),columns=['Price'])\n",
    "    # update main df \n",
    "    df_mk = df_mk.append(dft,ignore_index=True)"
   ]
  },
  {
   "cell_type": "markdown",
   "id": "95f3b2c4-37b4-46fb-85f2-722abb45b7f0",
   "metadata": {},
   "source": [
    "**Rental Prices between 4000 and 7000** 2279 entries"
   ]
  },
  {
   "cell_type": "code",
   "execution_count": 7,
   "id": "dde84154-ef2e-444d-b627-25983863ef9c",
   "metadata": {},
   "outputs": [
    {
     "name": "stderr",
     "output_type": "stream",
     "text": [
      "Loading...: 100%|██████████| 100/100 [01:49<00:00,  1.10s/it]\n"
     ]
    }
   ],
   "source": [
    "for i in tqdm (range (1,101), desc=\"Loading...\"):\n",
    "    # iterate the webpages\n",
    "    url = f'https://www.iproperty.com.my/rent/mont-kiara/all-residential/?minPrice=4000&maxPrice=7000&page=i'\n",
    "    # retrive the html code\n",
    "    html = requests.get(url).text\n",
    "    # create soup\n",
    "    soup = BeautifulSoup(html,'html.parser')\n",
    "    # filter data and convert to temporary dataframe\n",
    "    dft = pd.DataFrame(soup.find_all('p',class_=False),columns=['Price'])\n",
    "    # update main df \n",
    "    df_mk = df_mk.append(dft,ignore_index=True)"
   ]
  },
  {
   "cell_type": "markdown",
   "id": "1c60f427-21c7-4288-ba10-b9a412a778d0",
   "metadata": {},
   "source": [
    "**Rental Prices above 7000** 2279 entries"
   ]
  },
  {
   "cell_type": "code",
   "execution_count": 14,
   "id": "6c58e8d3-3728-4dbd-9893-f324307ac3f9",
   "metadata": {},
   "outputs": [
    {
     "name": "stderr",
     "output_type": "stream",
     "text": [
      "Loading...: 100%|██████████| 73/73 [01:19<00:00,  1.09s/it]\n"
     ]
    }
   ],
   "source": [
    "for i in tqdm (range (1,74), desc=\"Loading...\"):\n",
    "    # iterate the webpages\n",
    "    url = f'https://www.iproperty.com.my/rent/mont-kiara/all-residential/?minPrice=8000&page=i'\n",
    "    # retrive the html code\n",
    "    html = requests.get(url).text\n",
    "    # create soup\n",
    "    soup = BeautifulSoup(html,'html.parser')\n",
    "    # filter data and convert to temporary dataframe\n",
    "    dft = pd.DataFrame(soup.find_all('p',class_=False),columns=['Price'])\n",
    "    # update main df \n",
    "    df_mk = df_mk.append(dft,ignore_index=True)"
   ]
  },
  {
   "cell_type": "code",
   "execution_count": 15,
   "id": "02d0e3a7-5c1d-472a-b87d-1c91729af600",
   "metadata": {},
   "outputs": [
    {
     "name": "stdout",
     "output_type": "stream",
     "text": [
      "Successfully extracted 5460 entries\n"
     ]
    }
   ],
   "source": [
    "print('Successfully extracted {} entries'.format(df_mk.shape[0]))"
   ]
  },
  {
   "cell_type": "markdown",
   "id": "46cc54de-6bb8-4665-abe8-29b8eff4f054",
   "metadata": {},
   "source": [
    "**Clean the data**"
   ]
  },
  {
   "cell_type": "code",
   "execution_count": 29,
   "id": "0f9f37c7-8b15-4a91-bf74-3c47f163c2b0",
   "metadata": {},
   "outputs": [
    {
     "data": {
      "text/plain": [
       "Price    float64\n",
       "dtype: object"
      ]
     },
     "execution_count": 29,
     "metadata": {},
     "output_type": "execute_result"
    }
   ],
   "source": [
    "# extract just the numeric values\n",
    "df_mk.['Price'] = df_mk['Price'].apply(lambda x: x.split()[1])\n",
    "# convert dtype to float\n",
    "df_mk['Price'] = df_mk['Price'].astype('float')\n",
    "# check dtype\n",
    "df_mk.dtypes"
   ]
  },
  {
   "cell_type": "markdown",
   "id": "c81937fc-37aa-43ff-8515-246154edfa04",
   "metadata": {},
   "source": [
    "## Data Exploration"
   ]
  },
  {
   "cell_type": "code",
   "execution_count": 12,
   "id": "c3e13332-15c3-4e95-ab52-ca4a7af4f299",
   "metadata": {},
   "outputs": [],
   "source": [
    "import seaborn as sns\n",
    "import matplotlib.pyplot as plt"
   ]
  },
  {
   "cell_type": "code",
   "execution_count": 35,
   "id": "d4a5aa00-6faa-44df-b974-c5809f884de0",
   "metadata": {},
   "outputs": [
    {
     "data": {
      "image/png": "[encoded data removed]",
      "text/plain": [
       "<Figure size 720x720 with 1 Axes>"
      ]
     },
     "metadata": {
      "needs_background": "light"
     },
     "output_type": "display_data"
    }
   ],
   "source": [
    "# create a canvas\n",
    "fig, ax0 = plt.subplots(figsize=(10,10))\n",
    "# plot the graph\n",
    "sns.violinplot(data=df_mk, \n",
    "            #kind='violin',\n",
    "            y=\"Price\",\n",
    "            inner='quartile',\n",
    "            ax=ax0)\n",
    "\n",
    "# plot the current price charging\n",
    "plt.annotate('',\n",
    "             xy=(-0.5,1.4),\n",
    "             xytext=(0.5,1.4),\n",
    "             arrowprops=dict(arrowstyle=\"-\",connectionstyle=\"arc3\",color='red',ls='--'))\n",
    "plt.text(0,1.41,'Our current rental price',ha='center')\n",
    "# annotate the box plot data\n",
    "a = df_mk.describe().to_string()\n",
    "plt.text(0.3,4.1,a)\n",
    "\n",
    "# label the graph\n",
    "plt.title('Mont Kiara Rental Price psft')\n",
    "plt.ylabel('Price psft')\n",
    "plt.ylim(1,5)\n",
    "plt.xlabel('Mont Kiara')\n",
    "plt.grid(axis='y',alpha=0.1)\n",
    "\n",
    "#plt.show()\n",
    "plt.savefig('MK_VIOLINPLOT.jpeg')"
   ]
  },
  {
   "cell_type": "code",
   "execution_count": null,
   "id": "46abad37-a363-431c-be7c-45ad20a20ec8",
   "metadata": {},
   "outputs": [],
   "source": []
  }
 ],
 "metadata": {
  "kernelspec": {
   "display_name": "Python 3",
   "language": "python",
   "name": "python3"
  },
  "language_info": {
   "codemirror_mode": {
    "name": "ipython",
    "version": 3
   },
   "file_extension": ".py",
   "mimetype": "text/x-python",
   "name": "python",
   "nbconvert_exporter": "python",
   "pygments_lexer": "ipython3",
   "version": "3.8.8"
  }
 },
 "nbformat": 4,
 "nbformat_minor": 5
}
